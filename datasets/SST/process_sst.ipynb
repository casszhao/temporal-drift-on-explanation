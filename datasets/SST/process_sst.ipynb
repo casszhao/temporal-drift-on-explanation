{
 "cells": [
  {
   "cell_type": "code",
   "execution_count": 1,
   "metadata": {},
   "outputs": [
    {
     "name": "stdout",
     "output_type": "stream",
     "text": [
      "--2022-01-12 15:10:42--  https://nlp.stanford.edu/sentiment/trainDevTestTrees_PTB.zip\r\n",
      "Resolving nlp.stanford.edu (nlp.stanford.edu)... 171.64.67.140\r\n",
      "Connecting to nlp.stanford.edu (nlp.stanford.edu)|171.64.67.140|:443... connected.\r\n",
      "HTTP request sent, awaiting response... 200 OK\r\n",
      "Length: 789539 (771K) [application/zip]\r\n",
      "Saving to: ‘trainDevTestTrees_PTB.zip.4’\r\n",
      "\r\n",
      "trainDevTestTrees_P 100%[===================>] 771.03K   215KB/s    in 3.6s    \r\n",
      "\r\n",
      "2022-01-12 15:10:47 (215 KB/s) - ‘trainDevTestTrees_PTB.zip.4’ saved [789539/789539]\r\n",
      "\r\n",
      "Archive:  trainDevTestTrees_PTB.zip\r\n",
      "replace trees/dev.txt? [y]es, [n]o, [A]ll, [N]one, [r]ename: ^C\r\n"
     ]
    },
    {
     "data": {
      "text/plain": "'\\nhttp://localhost:8888/tree\\n'"
     },
     "execution_count": 1,
     "metadata": {},
     "output_type": "execute_result"
    }
   ],
   "source": [
    "!wget https://nlp.stanford.edu/sentiment/trainDevTestTrees_PTB.zip\n",
    "!unzip trainDevTestTrees_PTB.zip\n",
    "\n",
    "'''\n",
    "http://localhost:8888/tree\n",
    "'''"
   ]
  },
  {
   "cell_type": "code",
   "execution_count": null,
   "outputs": [],
   "source": [
    "from tqdm import tqdm"
   ],
   "metadata": {
    "collapsed": false,
    "pycharm": {
     "name": "#%%\n"
    }
   }
  },
  {
   "cell_type": "code",
   "execution_count": 10,
   "metadata": {},
   "outputs": [
    {
     "name": "stdout",
     "output_type": "stream",
     "text": [
      "6920\n",
      "872\n",
      "1821\n",
      "6920\n",
      "872\n",
      "1821\n",
      "6920\n",
      "872\n",
      "1821\n",
      "6920\n",
      "872\n",
      "1821\n"
     ]
    }
   ],
   "source": [
    "# convert txt to csv\n",
    "import nltk\n",
    "a = nltk.corpus.BracketParseCorpusReader(\"trees\", \"(train|dev|test)\\.txt\")\n",
    "\n",
    "text = {}\n",
    "labels = {}\n",
    "keys = ['train', 'dev', 'test']\n",
    "for k in keys :\n",
    "    text[k] = [x.leaves() for x in a.parsed_sents(k+'.txt') if x.label() != '2']\n",
    "    labels[k] = [int(x.label()) for x in a.parsed_sents(k+'.txt') if x.label() != '2']\n",
    "    print(len(text[k]))\n"
   ]
  },
  {
   "cell_type": "code",
   "execution_count": 12,
   "metadata": {},
   "outputs": [],
   "source": [
    "# convert txt to csv\n",
    "import pandas as pd\n",
    "df_texts = []\n",
    "df_labels = []\n",
    "df_exp_split = []\n",
    "\n",
    "for k in keys :\n",
    "    df_texts += text[k]\n",
    "    df_labels += labels[k]\n",
    "    df_exp_split += [k]*len(text[k])\n",
    "    \n",
    "data = pd.DataFrame({'text' : df_texts, 'label' : df_labels, 'exp_split' : df_exp_split})"
   ]
  },
  {
   "cell_type": "code",
   "execution_count": 13,
   "outputs": [],
   "source": [
    "import spacy\n",
    "nlp = spacy.load('en', disable=['parser', 'tagger', 'ner'])\n",
    "import re\n",
    "\n",
    "def tokenize(text) :\n",
    "    text = \" \".join(text)\n",
    "    text = text.replace(\"-LRB-\", '')\n",
    "    text = text.replace(\"-RRB-\", \" \")\n",
    "    text = re.sub(r'\\W', ' ', text)\n",
    "    text = re.sub(r'\\s+', ' ', text)\n",
    "    text = text.strip()\n",
    "    tokens = \" \".join([t.text.lower() for t in nlp(text)])\n",
    "    return tokens\n"
   ],
   "metadata": {
    "collapsed": false,
    "pycharm": {
     "name": "#%%\n"
    }
   }
  },
  {
   "cell_type": "code",
   "execution_count": 14,
   "outputs": [],
   "source": [
    "for k in keys :\n",
    "    text[k] = [tokenize(t) for t in text[k]]\n",
    "    labels[k] = [1 if x >= 3 else 0 for x in labels[k]]"
   ],
   "metadata": {
    "collapsed": false,
    "pycharm": {
     "name": "#%%\n"
    }
   }
  },
  {
   "cell_type": "code",
   "execution_count": 15,
   "metadata": {},
   "outputs": [],
   "source": [
    "import os\n",
    "os.makedirs('data', exist_ok=True)"
   ]
  },
  {
   "cell_type": "code",
   "execution_count": 16,
   "metadata": {},
   "outputs": [],
   "source": [
    "import spacy\n",
    "nlp = spacy.load('en')"
   ]
  },
  {
   "cell_type": "code",
   "execution_count": 24,
   "metadata": {},
   "outputs": [
    {
     "name": "stderr",
     "output_type": "stream",
     "text": [
      "100%|██████████| 9613/9613 [01:32<00:00, 104.07it/s]\n"
     ]
    }
   ],
   "source": [
    "def clean_text(text) :\n",
    "    return \"\\n\".join([\" \".join([t.text.strip() for t in sent]) for sent in nlp(str(text)).sents])\n",
    "\n",
    "tqdm.pandas()\n",
    "data[\"text\"] = data.text.progress_apply(lambda x : clean_text(x))"
   ]
  },
  {
   "cell_type": "code",
   "execution_count": 25,
   "outputs": [],
   "source": [
    "data[\"label_id\"] = data.label.apply(lambda x : \"positive\" if x == 1 else \"negative\")"
   ],
   "metadata": {
    "collapsed": false,
    "pycharm": {
     "name": "#%%\n"
    }
   }
  },
  {
   "cell_type": "code",
   "execution_count": 26,
   "metadata": {},
   "outputs": [],
   "source": [
    "pd.options.mode.chained_assignment = None \n",
    "train = data.loc[data.exp_split == \"train\"]\n",
    "train[\"annotation_id\"] = list(range(len(train)))\n",
    "train.annotation_id = train.annotation_id.apply(lambda x: \"train_\" + str(x))\n",
    "train.to_csv(\"data/train.csv\", index = False)\n",
    "\n",
    "dev = data.loc[data.exp_split == \"dev\"]\n",
    "dev[\"annotation_id\"] = list(range(len(dev)))\n",
    "dev.annotation_id = dev.annotation_id.apply(lambda x: \"dev_\" + str(x))\n",
    "dev.to_csv(\"data/dev.csv\", index = False)\n",
    "\n",
    "test = data.loc[data.exp_split == \"test\"]\n",
    "test[\"annotation_id\"] = list(range(len(test)))\n",
    "test.annotation_id = test.annotation_id.apply(lambda x: \"test_\" + str(x))\n",
    "test.to_csv(\"data/test.csv\", index = False)"
   ]
  },
  {
   "cell_type": "code",
   "execution_count": null,
   "outputs": [],
   "source": [],
   "metadata": {
    "collapsed": false,
    "pycharm": {
     "name": "#%%\n"
    }
   }
  }
 ],
 "metadata": {
  "kernelspec": {
   "display_name": "Python 3",
   "language": "python",
   "name": "python3"
  },
  "language_info": {
   "codemirror_mode": {
    "name": "ipython",
    "version": 3
   },
   "file_extension": ".py",
   "mimetype": "text/x-python",
   "name": "python",
   "nbconvert_exporter": "python",
   "pygments_lexer": "ipython3",
   "version": "3.6.3"
  }
 },
 "nbformat": 4,
 "nbformat_minor": 4
}